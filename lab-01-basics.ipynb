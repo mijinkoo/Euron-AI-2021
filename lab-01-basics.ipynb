{
 "cells": [
  {
   "cell_type": "code",
   "execution_count": 2,
   "metadata": {},
   "outputs": [
    {
     "data": {
      "text/plain": [
       "'2.0.0'"
      ]
     },
     "execution_count": 2,
     "metadata": {},
     "output_type": "execute_result"
    }
   ],
   "source": [
    "import tensorflow as tf\n",
    "tf.__version__"
   ]
  },
  {
   "cell_type": "code",
   "execution_count": 6,
   "metadata": {},
   "outputs": [
    {
     "name": "stdout",
     "output_type": "stream",
     "text": [
      "tf.Tensor(b'Hello, TensorFlow!', shape=(), dtype=string)\n"
     ]
    }
   ],
   "source": [
    "hello = tf.constant(\"Hello, TensorFlow!\")\n",
    "\n",
    "print(hello)\n",
    "#텐서플로우 ver2.0 부터는 session과 run기능이 없어졌다. 그냥 바로 print 가능!"
   ]
  },
  {
   "cell_type": "code",
   "execution_count": 8,
   "metadata": {},
   "outputs": [
    {
     "data": {
      "text/plain": [
       "[[[1.0, 2.0, 3.0]], [[7.0, 8.0, 9.0]]]"
      ]
     },
     "execution_count": 8,
     "metadata": {},
     "output_type": "execute_result"
    }
   ],
   "source": [
    "3 # 랭크 0 텐서; shpae [] 스칼라\n",
    "[1. ,2., 3.] # 랭크 1 텐서; shape [3] 벡터\n",
    "[[1., 2., 3.], [4., 5., 6.]] # 랭크 2 텐서; shape [2, 3] 행렬\n",
    "[[[1., 2., 3.]], [[7., 8., 9.]]] # 랭크 3 텐서; shape [2, 1, 3]"
   ]
  },
  {
   "cell_type": "code",
   "execution_count": 23,
   "metadata": {},
   "outputs": [],
   "source": [
    "node1 = tf.constant(3.0, tf.float32)\n",
    "node2 = tf.constant(4.0) # also tf.float32 implicitly\n",
    "node3 = tf.add(node1, node2)"
   ]
  },
  {
   "cell_type": "code",
   "execution_count": 39,
   "metadata": {},
   "outputs": [
    {
     "name": "stdout",
     "output_type": "stream",
     "text": [
      "node1: tf.Tensor(3.0, shape=(), dtype=float32)  node2: tf.Tensor(4.0, shape=(), dtype=float32)\n",
      "node3:  tf.Tensor(7.0, shape=(), dtype=float32)\n",
      "node1: 3  node2: 4\n",
      "node3:  7\n"
     ]
    }
   ],
   "source": [
    "print(\"node1:\", node1, \" node2:\", node2)\n",
    "print(\"node3: \", node3)\n",
    "tf.print(\"node1:\", node1, \" node2:\", node2)\n",
    "tf.print(\"node3: \", node3)"
   ]
  },
  {
   "cell_type": "code",
   "execution_count": 33,
   "metadata": {},
   "outputs": [
    {
     "name": "stdout",
     "output_type": "stream",
     "text": [
      "(node1, node2):  [3.0, 4.0]\n",
      "(node3):  7.0\n"
     ]
    }
   ],
   "source": [
    "print(\"(node1, node2): \", [node1.numpy(), node2.numpy()])\n",
    "print(\"(node3): \", node3.numpy()) #이게 맞는 건가...?"
   ]
  },
  {
   "cell_type": "code",
   "execution_count": 55,
   "metadata": {},
   "outputs": [
    {
     "name": "stdout",
     "output_type": "stream",
     "text": [
      "tf.Tensor(7.5, shape=(), dtype=float32)\n",
      "tf.Tensor([3 7], shape=(2,), dtype=int32)\n",
      "7.5\n",
      "[3 7]\n"
     ]
    }
   ],
   "source": [
    "import numpy as np\n",
    "\n",
    "@tf.function #함수를 정의\n",
    "def adder(a, b):\n",
    "    return a + b\n",
    "\n",
    "A = tf.constant(3, tf.float32)\n",
    "B = tf.constant(4.5)\n",
    "AB = adder(A, B)\n",
    "\n",
    "C = tf.constant([1, 3])\n",
    "D = tf.constant([2, 4])\n",
    "CD = adder(C, D)\n",
    "print(adder(A, B)) #여기서 7.5만 어떻게 출력하지..?\n",
    "print(adder(C, D))\n",
    "print(AB.numpy())\n",
    "print(CD.numpy()) #출력값이 다른데... [3. 7.]이 나와야 됨"
   ]
  },
  {
   "cell_type": "code",
   "execution_count": 66,
   "metadata": {},
   "outputs": [
    {
     "name": "stdout",
     "output_type": "stream",
     "text": [
      "tf.Tensor(22.5, shape=(), dtype=float32)\n",
      "22.5\n"
     ]
    }
   ],
   "source": [
    "@tf.function\n",
    "def adder_and_triple(a, b):\n",
    "    return adder(a, b) * 3\n",
    "A = tf.constant(3, tf.float32)\n",
    "B = tf.constant(4.5)\n",
    "print(adder_and_triple(A, B))\n",
    "\n",
    "AB_triple = adder_and_triple(A, B)\n",
    "print(AB_triple.numpy())"
   ]
  }
 ],
 "metadata": {
  "kernelspec": {
   "display_name": "Python 3",
   "language": "python",
   "name": "python3"
  },
  "language_info": {
   "codemirror_mode": {
    "name": "ipython",
    "version": 3
   },
   "file_extension": ".py",
   "mimetype": "text/x-python",
   "name": "python",
   "nbconvert_exporter": "python",
   "pygments_lexer": "ipython3",
   "version": "3.7.9"
  }
 },
 "nbformat": 4,
 "nbformat_minor": 4
}
